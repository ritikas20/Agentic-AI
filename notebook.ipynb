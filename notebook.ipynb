{
 "cells": [
  {
   "cell_type": "code",
   "execution_count": 2,
   "id": "4c7ad7da",
   "metadata": {},
   "outputs": [],
   "source": [
    "from langgraph.graph import StateGraph, END\n",
    "from langgraph.checkpoint.memory import MemorySaver\n",
    "from langchain.chat_models import ChatOpenAI\n",
    "from langchain.tools import tool\n",
    "import requests\n",
    "from bs4 import BeautifulSoup\n",
    "import json\n",
    "import os"
   ]
  },
  {
   "cell_type": "code",
   "execution_count": null,
   "id": "0600e492",
   "metadata": {},
   "outputs": [
    {
     "data": {
      "text/plain": [
       "ChatGroq(client=<groq.resources.chat.completions.Completions object at 0x000002A4B279B350>, async_client=<groq.resources.chat.completions.AsyncCompletions object at 0x000002A4B274EE70>, model_name='llama3-8b-8192', model_kwargs={}, groq_api_key=SecretStr('**********'))"
      ]
     },
     "execution_count": 24,
     "metadata": {},
     "output_type": "execute_result"
    }
   ],
   "source": [
    "from langchain_groq import ChatGroq\n",
    "from langchain.chat_models import init_chat_model\n"
   ]
  },
  {
   "cell_type": "code",
   "execution_count": 30,
   "id": "93e8841f",
   "metadata": {},
   "outputs": [
    {
     "data": {
      "text/plain": [
       "ChatGroq(client=<groq.resources.chat.completions.Completions object at 0x000002A4B290CE90>, async_client=<groq.resources.chat.completions.AsyncCompletions object at 0x000002A4B290E7B0>, model_name='llama3-8b-8192', model_kwargs={}, groq_api_key=SecretStr('**********'))"
      ]
     },
     "execution_count": 30,
     "metadata": {},
     "output_type": "execute_result"
    }
   ],
   "source": [
    "from dotenv import load_dotenv\n",
    "load_dotenv()\n",
    "\n",
    "os.environ[\"GROQ_API_KEY\"]=os.getenv(\"GROQ_API_KEY\")\n",
    "llm=init_chat_model(\"groq:llama3-8b-8192\")\n",
    "llm"
   ]
  },
  {
   "cell_type": "code",
   "execution_count": 31,
   "id": "43220b47",
   "metadata": {},
   "outputs": [],
   "source": [
    "from langchain_tavily import TavilySearch\n",
    "\n",
    "os.environ[\"TAVILY_API_KEY\"]=os.getenv(\"TAVILY_API_KEY\")"
   ]
  },
  {
   "cell_type": "code",
   "execution_count": 36,
   "id": "462175a6",
   "metadata": {},
   "outputs": [
    {
     "name": "stderr",
     "output_type": "stream",
     "text": [
      "C:\\Users\\Ritika.Sardar\\AppData\\Local\\Temp\\ipykernel_6700\\283652598.py:3: LangChainDeprecationWarning: The class `TavilySearchResults` was deprecated in LangChain 0.3.25 and will be removed in 1.0. An updated version of the class exists in the :class:`~langchain-tavily package and should be used instead. To use it run `pip install -U :class:`~langchain-tavily` and import as `from :class:`~langchain_tavily import TavilySearch``.\n",
      "  search_tool = TavilySearchResults(k=5)\n"
     ]
    }
   ],
   "source": [
    "from langchain_community.tools.tavily_search import TavilySearchResults\n",
    "\n",
    "search_tool = TavilySearchResults(k=5)"
   ]
  },
  {
   "cell_type": "code",
   "execution_count": 37,
   "id": "d42ab407",
   "metadata": {},
   "outputs": [],
   "source": [
    "\n",
    "\n",
    "def search_node(state: dict):\n",
    "    keyword = state.get(\"product\")\n",
    "    if not keyword:\n",
    "        raise ValueError(\"Missing 'product' in state\")\n",
    "    \n",
    "    results = search_tool.invoke({\"query\": f\"{keyword} product blog news\"})\n",
    "    links_text = \"\\n\".join([res[\"content\"] for res in results])\n",
    "    return {**state, \"search_results\": links_text}\n",
    "\n",
    "\n",
    "\n",
    "def summarize_node(state: dict):\n",
    "    summary = llm.invoke(f\"Summarize this in 5 bullets:\\n{state['search_results']}\").content\n",
    "    return {**state, \"summary\": summary}\n",
    "\n",
    "def strategy_node(state: dict):\n",
    "    prompt = f\"Based on this:\\n{state['summary']}\\nSuggest 3 go-to-market strategies.\"\n",
    "    strategies = llm.invoke(prompt).content\n",
    "    return {**state, \"strategies\": strategies}\n",
    "\n",
    "def save_node(state: dict):\n",
    "    filename = f\"{state['product'].replace(' ', '_')}_report.json\"\n",
    "    with open(filename, \"w\") as f:\n",
    "        json.dump({\n",
    "            \"product\": state[\"product\"],\n",
    "            \"summary\": state[\"summary\"],\n",
    "            \"strategies\": state[\"strategies\"]\n",
    "        }, f, indent=2)\n",
    "    return {**state, \"file\": filename}\n"
   ]
  },
  {
   "cell_type": "code",
   "execution_count": null,
   "id": "681131f9",
   "metadata": {},
   "outputs": [],
   "source": [
    "# Build LangGraph\n",
    "builder = StateGraph(dict)\n",
    "\n",
    "builder.add_node(\"Search\", search_node)\n",
    "builder.add_node(\"Summarize\", summarize_node)\n",
    "builder.add_node(\"Strategy\", strategy_node)\n",
    "builder.add_node(\"Save\", save_node)\n",
    "\n",
    "builder.set_entry_point(\"Search\")\n",
    "builder.add_edge(\"Search\", \"Summarize\")\n",
    "builder.add_edge(\"Summarize\", \"Strategy\")\n",
    "builder.add_edge(\"Strategy\", \"Save\")\n",
    "builder.add_edge(\"Save\", END)\n",
    "\n",
    "graph = builder.compile()"
   ]
  },
  {
   "cell_type": "code",
   "execution_count": 39,
   "id": "72875cea",
   "metadata": {},
   "outputs": [
    {
     "data": {
      "image/png": "[encoded data removed]",
      "text/plain": [
       "<IPython.core.display.Image object>"
      ]
     },
     "metadata": {},
     "output_type": "display_data"
    }
   ],
   "source": [
    "## Visualize the graph\n",
    "from IPython.display import Image,display\n",
    "\n",
    "try:\n",
    "    display(Image(graph.get_graph().draw_mermaid_png()))\n",
    "except Exception:\n",
    "    pass"
   ]
  },
  {
   "cell_type": "code",
   "execution_count": null,
   "id": "4884ffb7",
   "metadata": {},
   "outputs": [],
   "source": [
    "initial_state = {\"product\": \"electric toothbrush\"}\n",
    "final_state = graph.invoke(initial_state)"
   ]
  }
 ],
 "metadata": {
  "kernelspec": {
   "display_name": "myenv",
   "language": "python",
   "name": "python3"
  },
  "language_info": {
   "codemirror_mode": {
    "name": "ipython",
    "version": 3
   },
   "file_extension": ".py",
   "mimetype": "text/x-python",
   "name": "python",
   "nbconvert_exporter": "python",
   "pygments_lexer": "ipython3",
   "version": "3.12.0"
  }
 },
 "nbformat": 4,
 "nbformat_minor": 5
}
